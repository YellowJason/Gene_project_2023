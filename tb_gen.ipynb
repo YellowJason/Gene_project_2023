{
 "cells": [
  {
   "cell_type": "code",
   "execution_count": 1,
   "id": "51db703b",
   "metadata": {},
   "outputs": [],
   "source": [
    "tile_size = 20\n",
    "\n",
    "# W = {'A': {'A':  91, 'C': -90, 'G': -25, 'T':-100},\n",
    "#      'C': {'A': -90, 'C': 100, 'G':-100, 'T': -25},\n",
    "#      'G': {'A': -25, 'C':-100, 'G': 100, 'T': -90},\n",
    "#      'T': {'A':-100, 'C': -25, 'G': -90, 'T':  91}}\n",
    "# g_o = -430\n",
    "# g_e = -30\n",
    "\n",
    "W = {'A': {'A': 3, 'C':-3, 'G':-1, 'T':-4},\n",
    "     'C': {'A':-3, 'C': 4, 'G':-4, 'T':-1},\n",
    "     'G': {'A':-1, 'C':-4, 'G': 4, 'T':-3},\n",
    "     'T': {'A':-4, 'C':-1, 'G':-3, 'T': 3}}\n",
    "g_o = -12\n",
    "g_e = -1"
   ]
  },
  {
   "cell_type": "code",
   "execution_count": 2,
   "id": "f1db7eb9",
   "metadata": {},
   "outputs": [
    {
     "name": "stdout",
     "output_type": "stream",
     "text": [
      "AGGGTCTCCCGCCGGTTACT\n",
      "TCAGCCTATCCCATTCAGTG\n",
      "[7620, -7065, 5583, 6777, 6214, 1732, -6063, -7152, 4068, 3233, -2345, -2422, -6761, 5072, 8188, 5584, 5412, -5153, 6111, -3158]\n",
      "[-7706, 7867, -3648, -2469, 4103, 3805, 2447, 8080, -3288, 6004, -4277, 7541, 2675, -3008, -6136, 3251, -7035, -3211, 6458, -415]\n",
      "[-1439, 2548, 3443, 1740, -6742, -322, -3067, 1676, -4492, 5376, 557, 3197, 2274, 4606, -2743, 4516, -8100, -4629, 3054, 2394]\n",
      "[6965, -5699, 4312, 3689, -8060, 2109, -843, -5832, -5027, 6409, 6741, 2557, -242, 8053, 7844, 7860, 6179, 6687, 298, -7114]\n",
      "[7906, -1, 5611, -3835, -471, 6574, 5336, -5540, 6276, -149, 1722, 6052, -5574, -282, 6928, -2760, -6065, 7702, 6823, -1784]\n"
     ]
    }
   ],
   "source": [
    "import random\n",
    "random.seed(10)\n",
    "\n",
    "d = ['A', 'C', 'G', 'T']\n",
    "\n",
    "gene_1, gene_2 = '', ''\n",
    "\n",
    "v_dia_score = []\n",
    "v_top_score = []\n",
    "v_lef_score = []\n",
    "\n",
    "i_lef_score = []\n",
    "d_top_score = []\n",
    "\n",
    "r = 2**13\n",
    "\n",
    "for i in range(tile_size):\n",
    "    gene_1 += d[random.randint(0, 3)]\n",
    "    gene_2 += d[random.randint(0, 3)]\n",
    "    v_dia_score.append(random.randint(-r, r))\n",
    "    v_top_score.append(random.randint(-r, r))\n",
    "    v_lef_score.append(random.randint(-r, r))\n",
    "    i_lef_score.append(random.randint(-r, r))\n",
    "    d_top_score.append(random.randint(-r, r))\n",
    "    \n",
    "print(gene_1)\n",
    "print(gene_2)\n",
    "print(v_dia_score)\n",
    "print(v_top_score)\n",
    "print(v_lef_score)\n",
    "print(i_lef_score)\n",
    "print(d_top_score)"
   ]
  },
  {
   "cell_type": "code",
   "execution_count": 3,
   "id": "0ee7889d",
   "metadata": {},
   "outputs": [],
   "source": [
    "f1 = open('./verilog/gene_1.txt', 'w')\n",
    "f2 = open('./verilog/gene_2.txt', 'w')\n",
    "\n",
    "f3 = open('./verilog/v_d.txt', 'w')\n",
    "f4 = open('./verilog/v_t.txt', 'w')\n",
    "f5 = open('./verilog/v_l.txt', 'w')\n",
    "\n",
    "f6 = open('./verilog/i_l.txt', 'w')\n",
    "f7 = open('./verilog/d_t.txt', 'w')\n",
    "\n",
    "d = {'A':0, 'C':1, 'G':2, 'T':3}\n",
    "\n",
    "def convert(num):\n",
    "    if num >= 0:\n",
    "        return format(num, '0>14b')\n",
    "    else:\n",
    "        a = format(-num-1, '0>14b')\n",
    "        b = ''\n",
    "        for i in range(len(a)):\n",
    "            if a[i] == '1':\n",
    "                b += '0'\n",
    "            else:\n",
    "                b += '1'\n",
    "        return b\n",
    "    \n",
    "for i in range(tile_size):\n",
    "    f1.write(f'{d[gene_1[i]]}\\n')\n",
    "    f2.write(f'{d[gene_2[i]]}\\n')\n",
    "    a = convert(v_dia_score[i])\n",
    "    f3.write(f'{a}\\n')\n",
    "    a = convert(v_top_score[i])\n",
    "    f4.write(f'{a}\\n')\n",
    "    a = convert(v_lef_score[i])\n",
    "    f5.write(f'{a}\\n')\n",
    "    a = convert(i_lef_score[i])\n",
    "    f6.write(f'{a}\\n')\n",
    "    a = convert(d_top_score[i])\n",
    "    f7.write(f'{a}\\n')\n",
    "    \n",
    "f1.close()\n",
    "f2.close()\n",
    "f3.close()\n",
    "f4.close()\n",
    "f5.close()\n",
    "f6.close()\n",
    "f7.close()"
   ]
  },
  {
   "cell_type": "code",
   "execution_count": 5,
   "id": "1963d9fc",
   "metadata": {},
   "outputs": [
    {
     "name": "stdout",
     "output_type": "stream",
     "text": [
      "7905 7855 5610 6781 6213 6573 5335 8068 6275 6408 6740 7529 2663 8052 8185 7859 6178 7701 6822 2382 "
     ]
    }
   ],
   "source": [
    "for i in range(tile_size):\n",
    "    V_nxt = v_dia_score[i] + W[gene_1[i]][gene_2[i]]\n",
    "    I_nxt = max(v_lef_score[i]+g_o, i_lef_score[i]+g_e)\n",
    "    D_nxt = max(v_top_score[i]+g_o, d_top_score[i]+g_e)\n",
    "    V_out = max(V_nxt, I_nxt, D_nxt)\n",
    "    print(V_out, end=' ')"
   ]
  },
  {
   "cell_type": "code",
   "execution_count": null,
   "id": "0c652b88",
   "metadata": {},
   "outputs": [],
   "source": []
  },
  {
   "cell_type": "code",
   "execution_count": null,
   "id": "3bf7cbe0",
   "metadata": {},
   "outputs": [],
   "source": []
  }
 ],
 "metadata": {
  "kernelspec": {
   "display_name": "Python 3 (ipykernel)",
   "language": "python",
   "name": "python3"
  },
  "language_info": {
   "codemirror_mode": {
    "name": "ipython",
    "version": 3
   },
   "file_extension": ".py",
   "mimetype": "text/x-python",
   "name": "python",
   "nbconvert_exporter": "python",
   "pygments_lexer": "ipython3",
   "version": "3.8.16"
  }
 },
 "nbformat": 4,
 "nbformat_minor": 5
}
