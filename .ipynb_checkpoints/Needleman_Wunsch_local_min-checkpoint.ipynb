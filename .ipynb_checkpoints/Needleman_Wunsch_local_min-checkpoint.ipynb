{
 "cells": [
  {
   "cell_type": "code",
   "execution_count": 1,
   "id": "96dca96c",
   "metadata": {},
   "outputs": [],
   "source": [
    "import numpy as np\n",
    "import matplotlib.pyplot as plt\n",
    "np.set_printoptions(suppress=True)"
   ]
  },
  {
   "cell_type": "code",
   "execution_count": 2,
   "id": "cae296dd",
   "metadata": {},
   "outputs": [],
   "source": [
    "tile_size = 64\n",
    "overlap = 128\n",
    "y_drop = 7430\n",
    "threshold = 4000\n",
    "\n",
    "random_pattern = True\n",
    "# number of PEs compute in the same time\n",
    "num_PE = 64"
   ]
  },
  {
   "cell_type": "code",
   "execution_count": 3,
   "id": "559b8870",
   "metadata": {},
   "outputs": [],
   "source": [
    "# W = {'A': {'A':  91, 'C': -90, 'G': -25, 'T':-100},\n",
    "#      'C': {'A': -90, 'C': 100, 'G':-100, 'T': -25},\n",
    "#      'G': {'A': -25, 'C':-100, 'G': 100, 'T': -90},\n",
    "#      'T': {'A':-100, 'C': -25, 'G': -90, 'T':  91}}\n",
    "# g_o = -430\n",
    "# g_e = -30\n",
    "\n",
    "W = {'A': {'A': 3, 'C':-3, 'G':-1, 'T':-4},\n",
    "     'C': {'A':-3, 'C': 4, 'G':-4, 'T':-1},\n",
    "     'G': {'A':-1, 'C':-4, 'G': 4, 'T':-3},\n",
    "     'T': {'A':-4, 'C':-1, 'G':-3, 'T': 3}}\n",
    "g_o = -12\n",
    "g_e = -1"
   ]
  },
  {
   "cell_type": "code",
   "execution_count": 4,
   "id": "c0c59414",
   "metadata": {},
   "outputs": [],
   "source": [
    "# W = {'A': {'A': 2, 'C':-3, 'G':-3, 'T':-3},\n",
    "#      'C': {'A':-3, 'C': 2, 'G':-3, 'T':-3},\n",
    "#      'G': {'A':-3, 'C':-3, 'G': 2, 'T':-3},\n",
    "#      'T': {'A':-3, 'C':-3, 'G':-3, 'T': 2}}\n",
    "# g_o = -7\n",
    "# g_e = -2"
   ]
  },
  {
   "cell_type": "code",
   "execution_count": 5,
   "id": "0cd6d375",
   "metadata": {},
   "outputs": [
    {
     "name": "stdout",
     "output_type": "stream",
     "text": [
      "607 763\n"
     ]
    }
   ],
   "source": [
    "f = open('sequence_1.txt', 'r')\n",
    "gene_1 = ''\n",
    "f.readline()\n",
    "for line in f.readlines():\n",
    "    gene_1 = gene_1 + line[:-1]\n",
    "f.close()\n",
    "\n",
    "f = open('sequence_2.txt', 'r')\n",
    "gene_2 = ''\n",
    "f.readline()\n",
    "for line in f.readlines():\n",
    "    gene_2 = gene_2 + line[:-1]\n",
    "f.close()\n",
    "\n",
    "print(len(gene_1), len(gene_2))"
   ]
  },
  {
   "cell_type": "code",
   "execution_count": 6,
   "id": "d703976e",
   "metadata": {},
   "outputs": [
    {
     "name": "stdout",
     "output_type": "stream",
     "text": [
      "64 64\n",
      "ATGTTCTCTCGGAGGATGTATTATCTTTTGCTCATTCTAAGCACAATGCTTTCTTTCCACCTTG\n",
      "ATGTTCTCTCGGAGGATTTATTATCTTTTGCTCATTTTAAGCACAATGCTTTCTTTTCACCTTG\n"
     ]
    }
   ],
   "source": [
    "bias = 0\n",
    "gene_1, gene_2 = gene_1[bias:bias+tile_size], gene_2[bias:bias+tile_size]\n",
    "print(len(gene_1), len(gene_2))\n",
    "print(gene_1)\n",
    "print(gene_2)"
   ]
  },
  {
   "cell_type": "code",
   "execution_count": 7,
   "id": "3d6d5b98",
   "metadata": {},
   "outputs": [
    {
     "name": "stdout",
     "output_type": "stream",
     "text": [
      "64 88\n",
      "ATTACTTGCATGACGATCGTTGGTCGGCTCTTAACCCGGCGTTTAGCCTCAATGAACTGCAATC\n",
      "ATTAATTGCATGACGATCTTCTGTTCTTGGCACTGCTCTTCCCCGCTTCAGAGCCCCAAAGGGTTTGAACTGTCTAGAAGGCCCGATC\n"
     ]
    }
   ],
   "source": [
    "import random\n",
    "random.seed(10)\n",
    "\n",
    "d = ['A', 'C', 'G', 'T']\n",
    "if random_pattern:\n",
    "    gene_1, gene_2 = '', ''\n",
    "    for i in range(tile_size):\n",
    "        gene_1 += d[random.randint(0, 3)]\n",
    "    i = 0\n",
    "    while i < tile_size:\n",
    "        die = random.random()\n",
    "        l = random.randint(1,8)\n",
    "        # delete gene_1 for length l\n",
    "        if die < 0.05:\n",
    "            i += l\n",
    "        # insert gene_1 for length l\n",
    "        elif die < 0.1:\n",
    "            for j in range(l):\n",
    "                gene_2 += d[random.randint(0, 3)]\n",
    "            i += 1\n",
    "        # change 1 gene\n",
    "        elif die < 0.15:\n",
    "            gene_2 += d[random.randint(0, 3)]\n",
    "            i += 1\n",
    "        else:\n",
    "            gene_2 += gene_1[i]\n",
    "            i += 1\n",
    "    while len(gene_2) < tile_size:\n",
    "        gene_2 += d[random.randint(0, 3)]\n",
    "            \n",
    "    print(len(gene_1), len(gene_2))\n",
    "    print(gene_1)\n",
    "    print(gene_2)"
   ]
  },
  {
   "cell_type": "code",
   "execution_count": 8,
   "id": "48c2f602",
   "metadata": {},
   "outputs": [],
   "source": [
    "# tile_size = 52\n",
    "# gene_1 = gene_1[:tile_size]\n",
    "# gene_2 = gene_2[:tile_size]\n",
    "# print(gene_1)\n",
    "# print(gene_2)"
   ]
  },
  {
   "cell_type": "markdown",
   "id": "35376eb6",
   "metadata": {},
   "source": [
    "# Normal version"
   ]
  },
  {
   "cell_type": "code",
   "execution_count": 9,
   "id": "1e62db22",
   "metadata": {},
   "outputs": [
    {
     "name": "stdout",
     "output_type": "stream",
     "text": [
      "Score matrix\n",
      "[[  0. -12. -13. ... -73. -74. -75.]\n",
      " [-12.   0.   0. ...   0.   0.   0.]\n",
      " [-13.   0.   0. ...   0.   0.   0.]\n",
      " ...\n",
      " [-73.   0.   0. ...   0.   0.   0.]\n",
      " [-74.   0.   0. ...   0.   0.   0.]\n",
      " [-75.   0.   0. ...   0.   0.   0.]]\n",
      "Insertion matrix (Score when direction is left)\n",
      "[[  0. -12. -13. ... -73. -74. -75.]\n",
      " [-inf   0.   0. ...   0.   0.   0.]\n",
      " [-inf   0.   0. ...   0.   0.   0.]\n",
      " ...\n",
      " [-inf   0.   0. ...   0.   0.   0.]\n",
      " [-inf   0.   0. ...   0.   0.   0.]\n",
      " [-inf   0.   0. ...   0.   0.   0.]]\n",
      "Deletion matrix (Score when direction is top)\n",
      "[[  0. -inf -inf ... -inf -inf -inf]\n",
      " [-12.   0.   0. ...   0.   0.   0.]\n",
      " [-13.   0.   0. ...   0.   0.   0.]\n",
      " ...\n",
      " [-73.   0.   0. ...   0.   0.   0.]\n",
      " [-74.   0.   0. ...   0.   0.   0.]\n",
      " [-75.   0.   0. ...   0.   0.   0.]]\n"
     ]
    }
   ],
   "source": [
    "# Score matrix\n",
    "V = np.zeros((tile_size+1, tile_size+1))\n",
    "I = np.zeros((tile_size+1, tile_size+1))\n",
    "D = np.zeros((tile_size+1, tile_size+1))\n",
    "for i in range(1, tile_size+1):\n",
    "    V[0, i] = g_o + (i-1)*g_e\n",
    "    V[i, 0] = g_o + (i-1)*g_e\n",
    "    D[0, i] = float('-inf')\n",
    "    D[i, 0] = g_o + (i-1)*g_e\n",
    "    I[0, i] = g_o + (i-1)*g_e\n",
    "    I[i, 0] = float('-inf')\n",
    "print('Score matrix')\n",
    "print(V)\n",
    "print('Insertion matrix (Score when direction is left)')\n",
    "print(I)\n",
    "print('Deletion matrix (Score when direction is top)')\n",
    "print(D)\n",
    "# Direction matrix, 0:no compute, 1:top-left, 2:top, 3:left\n",
    "Trace = np.zeros((tile_size+1, tile_size+1), dtype=int)\n",
    "# When direction = 'left' or 'top', we needs to trace next direction on 'Trace_I' or 'Trace_D' instead of 'Trace'\n",
    "# 0:from Trace_I or Trace_D (extend gap), 1:from Trace (new gap)\n",
    "Trace_I = np.zeros((tile_size+1, tile_size+1), dtype=int)\n",
    "Trace_D = np.zeros((tile_size+1, tile_size+1), dtype=int)"
   ]
  },
  {
   "cell_type": "code",
   "execution_count": 10,
   "id": "2ae85ad3",
   "metadata": {},
   "outputs": [
    {
     "name": "stdout",
     "output_type": "stream",
     "text": [
      "3.0\n",
      "-24.0 -inf\n",
      "-24.0 -inf\n",
      "Score matrix\n",
      "[[  0. -12. -13. ... -73. -74. -75.]\n",
      " [-12.   3.  -9. ... -69. -70. -71.]\n",
      " [-13.  -9.   6. ... -65. -66. -67.]\n",
      " ...\n",
      " [-73. -69. -65. ...  54.  53.  52.]\n",
      " [-74. -70. -66. ...  57.  51.  56.]\n",
      " [-75. -71. -67. ...  50.  53.  50.]]\n",
      "Insertion matrix (Score when direction is left)\n",
      "[[  0. -12. -13. ... -73. -74. -75.]\n",
      " [-inf -24.  -9. ... -69. -70. -71.]\n",
      " [-inf -25. -21. ... -65. -66. -67.]\n",
      " ...\n",
      " [-inf -85. -81. ...  54.  53.  52.]\n",
      " [-inf -86. -82. ...  51.  50.  49.]\n",
      " [-inf -87. -83. ...  48.  47.  46.]]\n",
      "Deletion matrix (Score when direction is top)\n",
      "[[  0. -inf -inf ... -inf -inf -inf]\n",
      " [-12. -24. -25. ... -85. -86. -87.]\n",
      " [-13.  -9. -21. ... -81. -82. -83.]\n",
      " ...\n",
      " [-73. -69. -65. ...  52.  52.  52.]\n",
      " [-74. -70. -66. ...  51.  51.  51.]\n",
      " [-75. -71. -67. ...  50.  50.  50.]]\n",
      "Direction\n",
      "[[0 0 0 ... 0 0 0]\n",
      " [0 1 3 ... 3 3 3]\n",
      " [0 2 1 ... 3 3 1]\n",
      " ...\n",
      " [0 1 2 ... 3 3 2]\n",
      " [0 2 1 ... 1 1 1]\n",
      " [0 2 2 ... 2 1 1]]\n",
      "Direction of I\n",
      "[[0 0 0 ... 0 0 0]\n",
      " [0 1 1 ... 1 1 1]\n",
      " [0 1 1 ... 1 1 1]\n",
      " ...\n",
      " [0 0 0 ... 0 0 0]\n",
      " [0 0 0 ... 0 0 0]\n",
      " [0 0 0 ... 0 0 0]]\n",
      "Direction of D\n",
      "[[0 0 0 ... 0 0 0]\n",
      " [0 1 1 ... 0 0 0]\n",
      " [0 1 1 ... 0 0 0]\n",
      " ...\n",
      " [0 1 1 ... 0 0 0]\n",
      " [0 1 1 ... 0 0 0]\n",
      " [0 1 1 ... 1 0 0]]\n",
      "71.0 54 61\n"
     ]
    }
   ],
   "source": [
    "V_max = float('-inf')\n",
    "x_max, y_max = 0, 0\n",
    "i,j = 1,1\n",
    "print(V[i-1][j-1] + W[gene_1[i-1]][gene_2[j-1]])\n",
    "print(V[i][j-1]+g_o, I[i][j-1]+g_e)\n",
    "print(V[i-1][j]+g_o, D[i-1][j]+g_e)\n",
    "\n",
    "for i in range(1, tile_size+1):\n",
    "    for j in range(1, tile_size+1):\n",
    "        V_nxt = V[i-1][j-1] + W[gene_1[i-1]][gene_2[j-1]]\n",
    "        I[i][j] = max(V[i][j-1]+g_o, I[i][j-1]+g_e)\n",
    "        D[i][j] = max(V[i-1][j]+g_o, D[i-1][j]+g_e)\n",
    "        V[i][j] = max(V_nxt, I[i][j], D[i][j])\n",
    "        # if new maximum\n",
    "        if V[i][j] >= V_max:\n",
    "            V_max = V[i][j]\n",
    "            x_max, y_max = i, j\n",
    "        # direction of Trace\n",
    "        if V[i][j] == V_nxt:\n",
    "            Trace[i][j] = 1\n",
    "        elif V[i][j] == D[i][j]:\n",
    "            Trace[i][j] = 2\n",
    "        elif V[i][j] == I[i][j]:\n",
    "            Trace[i][j] = 3\n",
    "        # direction of Trace_I\n",
    "        if I[i][j] == V[i][j-1]+g_o:\n",
    "            Trace_I[i][j] = 1\n",
    "        else:\n",
    "            Trace_I[i][j] = 0\n",
    "        # direction of Trace_D\n",
    "        if D[i][j] == V[i-1][j]+g_o:\n",
    "            Trace_D[i][j] = 1\n",
    "        else:\n",
    "            Trace_D[i][j] = 0\n",
    "    # print(V_max)\n",
    "print('Score matrix')\n",
    "print(V)\n",
    "print('Insertion matrix (Score when direction is left)')\n",
    "print(I)\n",
    "print('Deletion matrix (Score when direction is top)')\n",
    "print(D)\n",
    "print('Direction')\n",
    "print(Trace)\n",
    "print('Direction of I')\n",
    "print(Trace_D)\n",
    "print('Direction of D')\n",
    "print(Trace_I)\n",
    "print(V_max, x_max, y_max)"
   ]
  },
  {
   "cell_type": "code",
   "execution_count": 11,
   "id": "de1dca5d",
   "metadata": {},
   "outputs": [
    {
     "data": {
      "image/png": "[encoded data removed]",
      "text/plain": [
       "<Figure size 640x480 with 2 Axes>"
      ]
     },
     "metadata": {},
     "output_type": "display_data"
    },
    {
     "data": {
      "image/png": "[encoded data removed]",
      "text/plain": [
       "<Figure size 640x480 with 2 Axes>"
      ]
     },
     "metadata": {},
     "output_type": "display_data"
    },
    {
     "data": {
      "image/png": "[encoded data removed]",
      "text/plain": [
       "<Figure size 640x480 with 2 Axes>"
      ]
     },
     "metadata": {},
     "output_type": "display_data"
    }
   ],
   "source": [
    "Trace_ans = Trace\n",
    "Trace_I_ans = Trace_I\n",
    "Trace_D_ans = Trace_D\n",
    "plt.imshow(Trace[:, :], cmap='Pastel1')\n",
    "plt.colorbar()\n",
    "plt.show()\n",
    "plt.imshow(Trace_I[:, :], cmap='Pastel1')\n",
    "plt.colorbar()\n",
    "plt.show()\n",
    "plt.imshow(Trace_D[:, :], cmap='Pastel1')\n",
    "plt.colorbar()\n",
    "plt.show()"
   ]
  },
  {
   "cell_type": "code",
   "execution_count": 12,
   "id": "0cbb3b3e",
   "metadata": {},
   "outputs": [
    {
     "name": "stdout",
     "output_type": "stream",
     "text": [
      "Score: 71.0, Position: (54, 61)\n"
     ]
    },
    {
     "data": {
      "image/png": "[encoded data removed]",
      "text/plain": [
       "<Figure size 640x480 with 2 Axes>"
      ]
     },
     "metadata": {},
     "output_type": "display_data"
    }
   ],
   "source": [
    "V_ans = V\n",
    "print(f'Score: {V_max}, Position: {x_max, y_max}')\n",
    "plt.imshow(V[:, :], cmap='rainbow')\n",
    "plt.colorbar()\n",
    "plt.show()"
   ]
  },
  {
   "cell_type": "code",
   "execution_count": 13,
   "id": "ab4ad76e",
   "metadata": {},
   "outputs": [
    {
     "name": "stdout",
     "output_type": "stream",
     "text": [
      "Score: 71.0, Position: (54, 61)\n",
      "ATTACTTGCATGACGATCGTTGGT--------CGGCTCTTAACCCGGCGTT-TAGCCTCA\n",
      "|||| ||||||||||||| |  ||        | ||||||  ||| || |   |||| ||\n",
      "ATTAATTGCATGACGATCTTCTGTTCTTGGCACTGCTCTT--CCCCGCTTCAGAGCCCCA\n",
      "\n",
      "ATG\n",
      "| |\n",
      "AAG\n",
      "\n"
     ]
    }
   ],
   "source": [
    "seq_1 = ''\n",
    "seq_2 = ''\n",
    "result = ''\n",
    "# which matirx are we tracking now\n",
    "target_matrix = 'T'\n",
    "\n",
    "x, y = x_max, y_max\n",
    "while(x != 0) and (y != 0):\n",
    "    if target_matrix == 'T':\n",
    "        # print('T', Trace[x][y], x, y)\n",
    "        if Trace[x][y] == 1:\n",
    "            seq_1 = gene_1[x-1] + seq_1\n",
    "            seq_2 = gene_2[y-1] + seq_2\n",
    "            if gene_1[x-1] == gene_2[y-1]:\n",
    "                result = '|' + result\n",
    "            else:\n",
    "                result = ' ' + result\n",
    "            x, y = x-1, y-1\n",
    "        # if direction = top, move to Trace_D\n",
    "        elif Trace[x][y] == 2:\n",
    "            if Trace_D[x][y] == 0:\n",
    "                target_matrix = 'D'\n",
    "            seq_1 = gene_1[x-1] + seq_1\n",
    "            seq_2 = '-' + seq_2\n",
    "            result = ' ' + result\n",
    "            x, y = x-1, y\n",
    "        # if direction = left, move to Trace_I\n",
    "        elif Trace[x][y] == 3:\n",
    "            if Trace_I[x][y] == 0:\n",
    "                target_matrix = 'I'\n",
    "            seq_1 = '-' + seq_1\n",
    "            seq_2 = gene_2[y-1] + seq_2\n",
    "            result = ' ' + result\n",
    "            x, y = x, y-1\n",
    "    elif target_matrix == 'D':\n",
    "        # print('D', Trace_D[x][y], x, y)\n",
    "        # move to Trace if reach gap origin\n",
    "        if Trace_D[x][y] == 1:\n",
    "            target_matrix = 'T'\n",
    "        seq_1 = gene_1[x-1] + seq_1\n",
    "        seq_2 = '-' + seq_2\n",
    "        result = ' ' + result\n",
    "        x, y = x-1, y\n",
    "    elif target_matrix == 'I':\n",
    "        # print('I', Trace_I[x][y], x, y)\n",
    "        # move to Trace if reach gap origin\n",
    "        if Trace_I[x][y] == 1:\n",
    "            target_matrix = 'T'\n",
    "        seq_1 = '-' + seq_1\n",
    "        seq_2 = gene_2[y-1] + seq_2\n",
    "        result = ' ' + result\n",
    "        x, y = x, y-1\n",
    "\n",
    "width = 60\n",
    "parts = len(seq_1)//width + 1\n",
    "print(f'Score: {V_max}, Position: {x_max, y_max}')\n",
    "for i in range(parts):\n",
    "    print(seq_1[i*width:min(i*width+width, len(seq_1))])\n",
    "    print(result[i*width:min(i*width+width, len(result))])\n",
    "    print(seq_2[i*width:min(i*width+width, len(seq_2))])\n",
    "    print('')\n",
    "\n",
    "seq_1_ans = seq_1\n",
    "seq_2_ans = seq_2\n",
    "result_ans = result"
   ]
  },
  {
   "cell_type": "code",
   "execution_count": 14,
   "id": "2e12694d",
   "metadata": {},
   "outputs": [
    {
     "name": "stdout",
     "output_type": "stream",
     "text": [
      "71\n"
     ]
    }
   ],
   "source": [
    "# checking calculation\n",
    "score = 0\n",
    "for i in range(len(seq_1)):\n",
    "    if seq_1[i] == '-':\n",
    "        if seq_1[i-1] == '-':\n",
    "            score += g_e\n",
    "        else:\n",
    "            score += g_o\n",
    "    elif seq_2[i] == '-':\n",
    "        if seq_2[i-1] == '-':\n",
    "            score += g_e\n",
    "        else:\n",
    "            score += g_o\n",
    "    else:\n",
    "        score += W[seq_1[i]][seq_2[i]]\n",
    "print(score)"
   ]
  },
  {
   "cell_type": "markdown",
   "id": "a5b8e260",
   "metadata": {},
   "source": [
    "# With stripe (No banded)"
   ]
  },
  {
   "cell_type": "code",
   "execution_count": 15,
   "id": "75bb6547",
   "metadata": {},
   "outputs": [
    {
     "name": "stdout",
     "output_type": "stream",
     "text": [
      "Score matrix\n",
      "[[  0. -12. -13. ... -73. -74. -75.]\n",
      " [-12. -inf -inf ... -inf -inf -inf]\n",
      " [-13. -inf -inf ... -inf -inf -inf]\n",
      " ...\n",
      " [-73. -inf -inf ... -inf -inf -inf]\n",
      " [-74. -inf -inf ... -inf -inf -inf]\n",
      " [-75. -inf -inf ... -inf -inf -inf]]\n",
      "Insertion matrix (Score when direction is left)\n",
      "[[  0. -13. -14. ... -74. -75. -76.]\n",
      " [-inf   0.   0. ...   0.   0.   0.]\n",
      " [-inf   0.   0. ...   0.   0.   0.]\n",
      " ...\n",
      " [-inf   0.   0. ...   0.   0.   0.]\n",
      " [-inf   0.   0. ...   0.   0.   0.]\n",
      " [-inf   0.   0. ...   0.   0.   0.]]\n",
      "Deletion matrix (Score when direction is top)\n",
      "[[  0. -inf -inf ... -inf -inf -inf]\n",
      " [-13.   0.   0. ...   0.   0.   0.]\n",
      " [-14.   0.   0. ...   0.   0.   0.]\n",
      " ...\n",
      " [-74.   0.   0. ...   0.   0.   0.]\n",
      " [-75.   0.   0. ...   0.   0.   0.]\n",
      " [-76.   0.   0. ...   0.   0.   0.]]\n"
     ]
    }
   ],
   "source": [
    "# Score matrix\n",
    "V = np.zeros((tile_size+1, tile_size+1))\n",
    "V = V + float('-inf')\n",
    "V[0][0] = 0\n",
    "I = np.zeros((tile_size+1, tile_size+1))\n",
    "D = np.zeros((tile_size+1, tile_size+1))\n",
    "for i in range(1, tile_size+1):\n",
    "    V[0, i] = g_o + (i-1)*g_e\n",
    "    V[i, 0] = g_o + (i-1)*g_e\n",
    "    D[0, i] = float('-inf')\n",
    "    D[i, 0] = g_o + i*g_e\n",
    "    I[0, i] = g_o + i*g_e\n",
    "    I[i, 0] = float('-inf')\n",
    "print('Score matrix')\n",
    "print(V)\n",
    "print('Insertion matrix (Score when direction is left)')\n",
    "print(I)\n",
    "print('Deletion matrix (Score when direction is top)')\n",
    "print(D)\n",
    "# Direction matrix, 0:no compute, 1:top-left, 2:top, 3:left\n",
    "Trace = np.zeros((tile_size+1, tile_size+1), dtype=int)\n",
    "# When direction = 'left' or 'top', we needs to trace next direction on 'Trace_I' or 'Trace_D' instead of 'Trace'\n",
    "# 0:from Trace_I or Trace_D (extend gap), 1:from Trace (new gap)\n",
    "Trace_I = np.zeros((tile_size+1, tile_size+1), dtype=int)\n",
    "Trace_D = np.zeros((tile_size+1, tile_size+1), dtype=int)"
   ]
  },
  {
   "cell_type": "code",
   "execution_count": 16,
   "id": "78fed292",
   "metadata": {},
   "outputs": [
    {
     "name": "stdout",
     "output_type": "stream",
     "text": [
      "Score matrix\n",
      "[[  0. -12. -13. ... -73. -74. -75.]\n",
      " [-12.   3.  -9. ... -69. -70. -71.]\n",
      " [-13.  -9.   6. ... -65. -66. -67.]\n",
      " ...\n",
      " [-73. -69. -65. ...  54.  53.  52.]\n",
      " [-74. -70. -66. ...  57.  51.  56.]\n",
      " [-75. -71. -67. ...  50.  53.  50.]]\n",
      "Insertion matrix (Score when direction is left)\n",
      "[[  0. -13. -14. ... -74. -75. -76.]\n",
      " [-inf -24.  -9. ... -69. -70. -71.]\n",
      " [-inf -25. -21. ... -65. -66. -67.]\n",
      " ...\n",
      " [-inf -85. -81. ...  54.  53.  52.]\n",
      " [-inf -86. -82. ...  51.  50.  49.]\n",
      " [-inf -87. -83. ...  48.  47.  46.]]\n",
      "Deletion matrix (Score when direction is top)\n",
      "[[  0. -inf -inf ... -inf -inf -inf]\n",
      " [-13. -24. -25. ... -85. -86. -87.]\n",
      " [-14.  -9. -21. ... -81. -82. -83.]\n",
      " ...\n",
      " [-74. -69. -65. ...  52.  52.  52.]\n",
      " [-75. -70. -66. ...  51.  51.  51.]\n",
      " [-76. -71. -67. ...  50.  50.  50.]]\n",
      "Direction\n",
      "[[0 0 0 ... 0 0 0]\n",
      " [0 1 3 ... 3 3 3]\n",
      " [0 2 1 ... 3 3 1]\n",
      " ...\n",
      " [0 1 2 ... 3 3 2]\n",
      " [0 2 1 ... 1 1 1]\n",
      " [0 2 2 ... 2 1 1]]\n",
      "71.0 54 61\n"
     ]
    }
   ],
   "source": [
    "# start position of next PE stripe\n",
    "column_start_nxt = 1\n",
    "V_max = 0\n",
    "x_max, y_max = 0, 0\n",
    "# 4 PEs compute in the same time\n",
    "for i in range(1, tile_size+1, 4):\n",
    "    column_start_nxt_determined = False\n",
    "    # column = column_start_nxt # current row\n",
    "    column = 1\n",
    "    stripe_end = False\n",
    "    while not stripe_end:\n",
    "        # row index: i+j, column index:column\n",
    "        for j in range(4):\n",
    "            # print(i+j, column)\n",
    "            V_nxt = V[i+j-1][column-1] + W[gene_1[i+j-1]][gene_2[column-1]]\n",
    "            I[i+j][column] = max(V[i+j][column-1]+g_o, I[i+j][column-1]+g_e)\n",
    "            D[i+j][column] = max(V[i+j-1][column]+g_o, D[i+j-1][column]+g_e)\n",
    "            V[i+j][column] = max(V_nxt, I[i+j][column], D[i+j][column])\n",
    "            # print(i+j, column, V[i+j][column])\n",
    "            # track max score\n",
    "            if V[i+j][column] >= V_max:\n",
    "                V_max = V[i+j][column]\n",
    "                x_max, y_max = i+j, column\n",
    "            # track direction\n",
    "            if V[i+j][column] == V_nxt:\n",
    "                Trace[i+j][column] = 1\n",
    "            elif V[i+j][column] == D[i+j][column]:\n",
    "                Trace[i+j][column] = 2\n",
    "            elif V[i+j][column] == I[i+j][column]:\n",
    "                Trace[i+j][column] = 3\n",
    "            # direction of Trace_I\n",
    "            if I[i+j][column] == V[i+j][column-1]+g_o:\n",
    "                Trace_I[i+j][column] = 1\n",
    "            else:\n",
    "                Trace_I[i+j][column] = 0\n",
    "            # direction of Trace_D\n",
    "            if D[i+j][column] == V[i+j-1][column]+g_o:\n",
    "                Trace_D[i+j][column] = 1\n",
    "            else:\n",
    "                Trace_D[i+j][column] = 0\n",
    "            \n",
    "        # if stripe end\n",
    "        if column == tile_size:\n",
    "            stripe_end = True\n",
    "        '''\n",
    "        elif (V[i][column]<V_max-y_drop) & (V[i+1][column]<V_max-y_drop) & (V[i+2][column]<V_max-y_drop) & (V[i+3][column]<V_max-y_drop):\n",
    "            stripe_end = True\n",
    "        '''\n",
    "        # next stripe start position\n",
    "        if not column_start_nxt_determined:\n",
    "            if (V[i][column]>V_max-y_drop) & (V[i+1][column]>V_max-y_drop) & (V[i+2][column]>V_max-y_drop) & (V[i+3][column]>V_max-y_drop):\n",
    "                column_start_nxt = column\n",
    "                column_start_nxt_determined =True\n",
    "        # PE shift to next column\n",
    "        column += 1\n",
    "\n",
    "print('Score matrix')\n",
    "print(V)\n",
    "print('Insertion matrix (Score when direction is left)')\n",
    "print(I)\n",
    "print('Deletion matrix (Score when direction is top)')\n",
    "print(D)\n",
    "print('Direction')\n",
    "print(Trace)\n",
    "print(V_max, x_max, y_max)"
   ]
  },
  {
   "cell_type": "code",
   "execution_count": 17,
   "id": "68635873",
   "metadata": {},
   "outputs": [
    {
     "name": "stdout",
     "output_type": "stream",
     "text": [
      "True\n",
      "True\n",
      "True\n",
      "True\n"
     ]
    }
   ],
   "source": [
    "print(Trace_ans.all() == Trace.all())\n",
    "print(Trace_I_ans.all() == Trace_I.all())\n",
    "print(Trace_D_ans.all() == Trace_D.all())\n",
    "print(V_ans.all() == V.all())"
   ]
  },
  {
   "cell_type": "code",
   "execution_count": 18,
   "id": "70b2b902",
   "metadata": {},
   "outputs": [
    {
     "name": "stdout",
     "output_type": "stream",
     "text": [
      "54 61\n"
     ]
    },
    {
     "data": {
      "image/png": "[encoded data removed]",
      "text/plain": [
       "<Figure size 640x480 with 2 Axes>"
      ]
     },
     "metadata": {},
     "output_type": "display_data"
    }
   ],
   "source": [
    "print(x_max, y_max)\n",
    "plt.imshow(V[:, :], cmap='rainbow')\n",
    "plt.colorbar()\n",
    "plt.show()"
   ]
  },
  {
   "cell_type": "markdown",
   "id": "ecdb6976",
   "metadata": {},
   "source": [
    "# With stripe (banded)"
   ]
  },
  {
   "cell_type": "code",
   "execution_count": 19,
   "id": "28a58302",
   "metadata": {},
   "outputs": [
    {
     "name": "stdout",
     "output_type": "stream",
     "text": [
      "Score matrix\n",
      "[[  0. -12. -13. ... -73. -74. -75.]\n",
      " [-12. -inf -inf ... -inf -inf -inf]\n",
      " [-13. -inf -inf ... -inf -inf -inf]\n",
      " ...\n",
      " [-73. -inf -inf ... -inf -inf -inf]\n",
      " [-74. -inf -inf ... -inf -inf -inf]\n",
      " [-75. -inf -inf ... -inf -inf -inf]]\n",
      "Insertion matrix (Score when direction is left)\n",
      "[[  0. -13. -14. ... -74. -75. -76.]\n",
      " [-inf -inf -inf ... -inf -inf -inf]\n",
      " [-inf -inf -inf ... -inf -inf -inf]\n",
      " ...\n",
      " [-inf -inf -inf ... -inf -inf -inf]\n",
      " [-inf -inf -inf ... -inf -inf -inf]\n",
      " [-inf -inf -inf ... -inf -inf -inf]]\n",
      "Deletion matrix (Score when direction is top)\n",
      "[[  0. -inf -inf ... -inf -inf -inf]\n",
      " [-13. -inf -inf ... -inf -inf -inf]\n",
      " [-14. -inf -inf ... -inf -inf -inf]\n",
      " ...\n",
      " [-74. -inf -inf ... -inf -inf -inf]\n",
      " [-75. -inf -inf ... -inf -inf -inf]\n",
      " [-76. -inf -inf ... -inf -inf -inf]]\n"
     ]
    }
   ],
   "source": [
    "# Score matrix\n",
    "V = np.zeros((tile_size+1, tile_size+1))\n",
    "V = V + float('-inf')\n",
    "V[0][0] = 0\n",
    "I = np.zeros((tile_size+1, tile_size+1))\n",
    "I = I + float('-inf')\n",
    "I[0][0] = 0\n",
    "D = np.zeros((tile_size+1, tile_size+1))\n",
    "D = D + float('-inf')\n",
    "D[0][0] = 0\n",
    "\n",
    "for i in range(1, tile_size+1):\n",
    "    V[0, i] = g_o + (i-1)*g_e\n",
    "    V[i, 0] = g_o + (i-1)*g_e\n",
    "    D[0, i] = float('-inf')\n",
    "    D[i, 0] = g_o + i*g_e\n",
    "    I[0, i] = g_o + i*g_e\n",
    "    I[i, 0] = float('-inf')\n",
    "print('Score matrix')\n",
    "print(V)\n",
    "print('Insertion matrix (Score when direction is left)')\n",
    "print(I)\n",
    "print('Deletion matrix (Score when direction is top)')\n",
    "print(D)\n",
    "# Direction matrix, 0:no compute, 1:top-left, 2:top, 3:left\n",
    "Trace = np.zeros((tile_size+1, tile_size+1), dtype=int)\n",
    "# When direction = 'left' or 'top', we needs to trace next direction on 'Trace_I' or 'Trace_D' instead of 'Trace'\n",
    "# 0:from Trace_I or Trace_D (extend gap), 1:from Trace (new gap)\n",
    "Trace_I = np.zeros((tile_size+1, tile_size+1), dtype=int)\n",
    "Trace_D = np.zeros((tile_size+1, tile_size+1), dtype=int)"
   ]
  },
  {
   "cell_type": "code",
   "execution_count": 20,
   "id": "e3448125",
   "metadata": {},
   "outputs": [
    {
     "name": "stdout",
     "output_type": "stream",
     "text": [
      "71.0 71.0 1\n",
      "Score matrix\n",
      "[[  0. -12. -13. ... -73. -74. -75.]\n",
      " [-12.   3.  -9. ... -69. -70. -71.]\n",
      " [-13.  -9.   6. ... -65. -66. -67.]\n",
      " ...\n",
      " [-73. -69. -65. ...  54.  53.  52.]\n",
      " [-74. -70. -66. ...  57.  51.  56.]\n",
      " [-75. -71. -67. ...  50.  53.  50.]]\n",
      "Insertion matrix (Score when direction is left)\n",
      "[[  0. -13. -14. ... -74. -75. -76.]\n",
      " [-inf -24.  -9. ... -69. -70. -71.]\n",
      " [-inf -25. -21. ... -65. -66. -67.]\n",
      " ...\n",
      " [-inf -85. -81. ...  54.  53.  52.]\n",
      " [-inf -86. -82. ...  51.  50.  49.]\n",
      " [-inf -87. -83. ...  48.  47.  46.]]\n",
      "Deletion matrix (Score when direction is top)\n",
      "[[  0. -inf -inf ... -inf -inf -inf]\n",
      " [-13. -24. -25. ... -85. -86. -87.]\n",
      " [-14.  -9. -21. ... -81. -82. -83.]\n",
      " ...\n",
      " [-74. -69. -65. ...  52.  52.  52.]\n",
      " [-75. -70. -66. ...  51.  51.  51.]\n",
      " [-76. -71. -67. ...  50.  50.  50.]]\n",
      "Direction\n",
      "[[0 0 0 ... 0 0 0]\n",
      " [0 1 3 ... 3 3 3]\n",
      " [0 2 1 ... 3 3 1]\n",
      " ...\n",
      " [0 1 2 ... 3 3 2]\n",
      " [0 2 1 ... 1 1 1]\n",
      " [0 2 2 ... 2 1 1]]\n",
      "71.0 54 61\n"
     ]
    }
   ],
   "source": [
    "# start position of next PE stripe\n",
    "column_start = 1\n",
    "column_end = 1\n",
    "V_max = 0\n",
    "V_max_local = 0\n",
    "x_max, y_max = 0, 0\n",
    "x_max_local, y_max_local = 0, 0\n",
    "\n",
    "for i in range(1, tile_size+1, num_PE):\n",
    "    column = column_start # current row\n",
    "    V_max_local = 0\n",
    "    # print(f\"{(i+3)//4}'th stripe start at column {column}\")\n",
    "    stripe_end = False\n",
    "    while not stripe_end:\n",
    "        # row index: i+j, column index:column\n",
    "        for j in range(num_PE):\n",
    "            if i+j > tile_size:\n",
    "                break\n",
    "            # print(i+j, column)\n",
    "            V_nxt = V[i+j-1][column-1] + W[gene_1[i+j-1]][gene_2[column-1]]\n",
    "            I[i+j][column] = max(V[i+j][column-1]+g_o, I[i+j][column-1]+g_e)\n",
    "            D[i+j][column] = max(V[i+j-1][column]+g_o, D[i+j-1][column]+g_e)\n",
    "            V[i+j][column] = max(V_nxt, I[i+j][column], D[i+j][column])\n",
    "            # print(i+j, column, V[i+j][column])\n",
    "            # track max score\n",
    "            if V[i+j][column] >= V_max:\n",
    "                V_max = V[i+j][column]\n",
    "                x_max, y_max = i+j, column\n",
    "            # local minimum for stripe end\n",
    "            if V[i+j][column] >= V_max_local:\n",
    "                V_max_local = V[i+j][column]\n",
    "                x_max_local, y_max_local = i+j, column\n",
    "            # track direction\n",
    "            if V[i+j][column] == V_nxt:\n",
    "                Trace[i+j][column] = 1\n",
    "            elif V[i+j][column] == D[i+j][column]:\n",
    "                Trace[i+j][column] = 2\n",
    "            elif V[i+j][column] == I[i+j][column]:\n",
    "                Trace[i+j][column] = 3\n",
    "            # direction of Trace_I\n",
    "            if I[i+j][column] == V[i+j][column-1]+g_o:\n",
    "                Trace_I[i+j][column] = 1\n",
    "            else:\n",
    "                Trace_I[i+j][column] = 0\n",
    "            # direction of Trace_D\n",
    "            if D[i+j][column] == V[i+j-1][column]+g_o:\n",
    "                Trace_D[i+j][column] = 1\n",
    "            else:\n",
    "                Trace_D[i+j][column] = 0\n",
    "        # if stripe end\n",
    "        # working number of PEs amy < total number when last stripe\n",
    "        PEs = min(num_PE, tile_size-i+1)\n",
    "        max_in_PEs = max([V[i+j][column] for j in range(PEs)])\n",
    "        # print(max_in_PEs, V_max, V_max-y_drop)\n",
    "        # needs to end far than max_y\n",
    "        if column < column_end:\n",
    "            pass\n",
    "        elif column == tile_size:\n",
    "            stripe_end = True\n",
    "            column_end = column\n",
    "            # print(f\"{(i+3)//4}'th stripe ended at column {column}\")\n",
    "        elif (max_in_PEs < V_max_local-y_drop):\n",
    "            stripe_end = True\n",
    "            column_end = column\n",
    "            # print(f\"{(i+3)//4}'th stripe ended at column {column}\")\n",
    "        # PE shift to next column\n",
    "        column += 1\n",
    "    # next stripe start position\n",
    "    column_start_old = column_start\n",
    "    min_in_PEs = min([V[i+j][column_start] for j in range(PEs)])\n",
    "    early_end = False\n",
    "    while min_in_PEs < V_max_local-y_drop:\n",
    "        column_start += 1\n",
    "        if column_start > tile_size:\n",
    "            early_end = True\n",
    "            break\n",
    "        min_in_PEs = min([V[i+j][column_start] for j in range(PEs)])\n",
    "        # print('find next start:', i, column_start, V_max_local-y_drop, min_in_PEs)\n",
    "    print(V_max, V_max_local, column_start)\n",
    "    # all score in stripe < maximum\n",
    "    if early_end:\n",
    "        break\n",
    "print('Score matrix')\n",
    "print(V)\n",
    "print('Insertion matrix (Score when direction is left)')\n",
    "print(I)\n",
    "print('Deletion matrix (Score when direction is top)')\n",
    "print(D)\n",
    "print('Direction')\n",
    "print(Trace)\n",
    "print(V_max, x_max, y_max)"
   ]
  },
  {
   "cell_type": "code",
   "execution_count": 21,
   "id": "a4685810",
   "metadata": {},
   "outputs": [
    {
     "data": {
      "image/png": "[encoded data removed]",
      "text/plain": [
       "<Figure size 640x480 with 2 Axes>"
      ]
     },
     "metadata": {},
     "output_type": "display_data"
    }
   ],
   "source": [
    "plt.imshow(Trace[:, :], cmap='Pastel1')\n",
    "plt.colorbar()\n",
    "plt.show()"
   ]
  },
  {
   "cell_type": "code",
   "execution_count": 22,
   "id": "a07bd20f",
   "metadata": {},
   "outputs": [
    {
     "data": {
      "image/png": "[encoded data removed]",
      "text/plain": [
       "<Figure size 640x480 with 2 Axes>"
      ]
     },
     "metadata": {},
     "output_type": "display_data"
    },
    {
     "name": "stdout",
     "output_type": "stream",
     "text": [
      "Score: 71.0 Position: (54, 61)\n",
      "Local Max: 71.0 Position: (54, 61)\n"
     ]
    }
   ],
   "source": [
    "plt.imshow(V[:, :], cmap='rainbow')\n",
    "plt.colorbar()\n",
    "plt.title(f'{num_PE} PEs')\n",
    "plt.show()\n",
    "print('Score:', V_max, f'Position: {x_max, y_max}')\n",
    "print('Local Max:', V_max_local, f'Position: {x_max_local, y_max_local}')"
   ]
  },
  {
   "cell_type": "code",
   "execution_count": 23,
   "id": "a0a11203",
   "metadata": {},
   "outputs": [
    {
     "name": "stdout",
     "output_type": "stream",
     "text": [
      "ATTACTTGCATGACGATCGTTGGT--------CGGCTCTTAACCCGGCGTT-TAGCCTCA\n",
      "|||| ||||||||||||| |  ||        | ||||||  ||| || |   |||| ||\n",
      "ATTAATTGCATGACGATCTTCTGTTCTTGGCACTGCTCTT--CCCCGCTTCAGAGCCCCA\n",
      "\n",
      "ATG\n",
      "| |\n",
      "AAG\n",
      "\n",
      "True\n",
      "True\n"
     ]
    }
   ],
   "source": [
    "seq_1 = ''\n",
    "seq_2 = ''\n",
    "result = ''\n",
    "# which matirx are we tracking now\n",
    "target_matrix = 'T'\n",
    "\n",
    "x, y = x_max, y_max\n",
    "while(x != 0) and (y != 0):\n",
    "    if target_matrix == 'T':\n",
    "        # print('T', Trace[x][y], x, y)\n",
    "        if Trace[x][y] == 1:\n",
    "            seq_1 = gene_1[x-1] + seq_1\n",
    "            seq_2 = gene_2[y-1] + seq_2\n",
    "            if gene_1[x-1] == gene_2[y-1]:\n",
    "                result = '|' + result\n",
    "            else:\n",
    "                result = ' ' + result\n",
    "            x, y = x-1, y-1\n",
    "        # if direction = top, move to Trace_D\n",
    "        elif Trace[x][y] == 2:\n",
    "            if Trace_D[x][y] == 0:\n",
    "                target_matrix = 'D'\n",
    "            seq_1 = gene_1[x-1] + seq_1\n",
    "            seq_2 = '-' + seq_2\n",
    "            result = ' ' + result\n",
    "            x, y = x-1, y\n",
    "        # if direction = left, move to Trace_I\n",
    "        elif Trace[x][y] == 3:\n",
    "            if Trace_I[x][y] == 0:\n",
    "                target_matrix = 'I'\n",
    "            seq_1 = '-' + seq_1\n",
    "            seq_2 = gene_2[y-1] + seq_2\n",
    "            result = ' ' + result\n",
    "            x, y = x, y-1\n",
    "    elif target_matrix == 'D':\n",
    "        # print('D', Trace_D[x][y], x, y)\n",
    "        # move to Trace if reach gap origin\n",
    "        if Trace_D[x][y] == 1:\n",
    "            target_matrix = 'T'\n",
    "        seq_1 = gene_1[x-1] + seq_1\n",
    "        seq_2 = '-' + seq_2\n",
    "        result = ' ' + result\n",
    "        x, y = x-1, y\n",
    "    elif target_matrix == 'I':\n",
    "        # print('I', Trace_I[x][y], x, y)\n",
    "        # move to Trace if reach gap origin\n",
    "        if Trace_I[x][y] == 1:\n",
    "            target_matrix = 'T'\n",
    "        seq_1 = '-' + seq_1\n",
    "        seq_2 = gene_2[y-1] + seq_2\n",
    "        result = ' ' + result\n",
    "        x, y = x, y-1\n",
    "\n",
    "parts = len(seq_1)//width + 1\n",
    "for i in range(parts):\n",
    "    print(seq_1[i*width:min(i*width+width, len(seq_1))])\n",
    "    print(result[i*width:min(i*width+width, len(result))])\n",
    "    print(seq_2[i*width:min(i*width+width, len(seq_2))])\n",
    "    print('')\n",
    "\n",
    "print(seq_1 == seq_1_ans)\n",
    "print(seq_2 == seq_2_ans)"
   ]
  },
  {
   "cell_type": "code",
   "execution_count": 26,
   "id": "bb17beaf",
   "metadata": {},
   "outputs": [],
   "source": [
    "f1 = open('./verilog/gene_1.txt', 'w')\n",
    "f2 = open('./verilog/gene_2.txt', 'w')\n",
    "d = {'A':0, 'C':1, 'G':2, 'T':3}\n",
    "\n",
    "for i in range(tile_size):\n",
    "    f1.write(f'{d[gene_1[i]]}\\n')\n",
    "    f2.write(f'{d[gene_2[i]]}\\n')\n",
    "\n",
    "f1.close()\n",
    "f2.close()"
   ]
  },
  {
   "cell_type": "code",
   "execution_count": null,
   "id": "b61a8414",
   "metadata": {},
   "outputs": [],
   "source": []
  }
 ],
 "metadata": {
  "kernelspec": {
   "display_name": "Python 3 (ipykernel)",
   "language": "python",
   "name": "python3"
  },
  "language_info": {
   "codemirror_mode": {
    "name": "ipython",
    "version": 3
   },
   "file_extension": ".py",
   "mimetype": "text/x-python",
   "name": "python",
   "nbconvert_exporter": "python",
   "pygments_lexer": "ipython3",
   "version": "3.9.13"
  }
 },
 "nbformat": 4,
 "nbformat_minor": 5
}
