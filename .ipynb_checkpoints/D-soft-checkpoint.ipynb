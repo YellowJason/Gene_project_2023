{
 "cells": [
  {
   "cell_type": "markdown",
   "id": "148ca33b",
   "metadata": {},
   "source": [
    "# Read gene file"
   ]
  },
  {
   "cell_type": "code",
   "execution_count": null,
   "id": "bd12ca24",
   "metadata": {},
   "outputs": [],
   "source": [
    "# f = open('ce11.fa', 'r')\n",
    "# gene_1 = ''\n",
    "# f.readline()\n",
    "# for line in f.readlines():\n",
    "#     gene_1 = gene_1 + line[:-1]\n",
    "# f.close()\n",
    "\n",
    "# f = open('cb4.fa', 'r')\n",
    "# gene_2 = ''\n",
    "# f.readline()\n",
    "# for line in f.readlines():\n",
    "#     gene_2 = gene_2 + line[:-1]\n",
    "# f.close()\n",
    "\n",
    "# print(len(gene_1), len(gene_2))"
   ]
  },
  {
   "cell_type": "markdown",
   "id": "819194c8",
   "metadata": {},
   "source": [
    "# Generate random gene sequence"
   ]
  },
  {
   "cell_type": "code",
   "execution_count": null,
   "id": "e2cfd783",
   "metadata": {},
   "outputs": [],
   "source": [
    "import numpy as np\n",
    "import matplotlib.pyplot as plt\n",
    "import random\n",
    "random.seed(10)\n",
    "\n",
    "random_pattern = True\n",
    "seq_size = 100000\n",
    "\n",
    "d = ['A', 'C', 'G', 'T']\n",
    "if random_pattern:\n",
    "    gene_1, gene_2 = '', ''\n",
    "    for i in range(seq_size):\n",
    "        gene_1 += d[random.randint(0, 3)]\n",
    "    i = 0\n",
    "    while i < seq_size:\n",
    "        die = random.random()\n",
    "        l = random.randint(1,10)\n",
    "        # delete gene_1 for length l\n",
    "        if die < 0.06:\n",
    "            i += l\n",
    "        # insert gene_1 for length l\n",
    "        elif die < 0.12:\n",
    "            for j in range(l):\n",
    "                gene_2 += d[random.randint(0, 3)]\n",
    "            i += 1\n",
    "        # change 1 gene\n",
    "        elif die < 0.18:\n",
    "            gene_2 += d[random.randint(0, 3)]\n",
    "            i += 1\n",
    "        else:\n",
    "            gene_2 += gene_1[i]\n",
    "            i += 1\n",
    "    while len(gene_2) < seq_size:\n",
    "        gene_2 += d[random.randint(0, 3)]\n",
    "            \n",
    "    print(len(gene_1), len(gene_2))\n",
    "    # print(gene_1)\n",
    "    # print(gene_2)"
   ]
  },
  {
   "cell_type": "markdown",
   "id": "821b4d93",
   "metadata": {},
   "source": [
    "# Build seed-look-up on reference sequence"
   ]
  },
  {
   "cell_type": "code",
   "execution_count": null,
   "id": "db1ce28a",
   "metadata": {},
   "outputs": [],
   "source": [
    "k = 8\n",
    "# base = ['A', 'C', 'G', 'T']\n",
    "# seeds = []\n",
    "# for i in range(4**k):\n",
    "#     seed = ''\n",
    "#     for j in range(k):\n",
    "#         seed += base[i%4]\n",
    "#         i = i // 4\n",
    "#     seeds.append(seed)\n",
    "# print(seeds)\n",
    "\n",
    "# seed_to_index = {seeds[i]:i for i in range(len(seeds))}\n",
    "\n",
    "def seed_to_index(seed):\n",
    "    base = {'A':0, 'C':1, 'G':2, 'T':3}\n",
    "    index = 0\n",
    "    for i in range(len(seed)):\n",
    "        index += (4**i)*base[seed[i]]\n",
    "    return index\n",
    "\n",
    "# print(seeds[100],seed_index(seeds[100]))"
   ]
  },
  {
   "cell_type": "code",
   "execution_count": null,
   "id": "38e6afb4",
   "metadata": {},
   "outputs": [],
   "source": [
    "# position_table[i] is a list, memory start positions of seeds[i] in reference sequence\n",
    "position_table = [[] for i in range(4**k)]\n",
    "for i in range(len(gene_1)-k+1):\n",
    "    cut = gene_1[i:i+k]\n",
    "    index = seed_to_index(cut)\n",
    "    position_table[index].append(i)\n",
    "print(position_table)"
   ]
  },
  {
   "cell_type": "markdown",
   "id": "8b4041cf",
   "metadata": {},
   "source": [
    "# D-Soft filtering"
   ]
  },
  {
   "cell_type": "code",
   "execution_count": null,
   "id": "2f735d5f",
   "metadata": {},
   "outputs": [],
   "source": [
    "# reference: gene_1, query: gene_2\n",
    "bin_size = 500\n",
    "chunk_size = 500\n",
    "threshold = 20\n",
    "\n",
    "bin_num = len(gene_1) // bin_size\n",
    "chunk_num = len(gene_2) // chunk_size\n",
    "\n",
    "final_hits = []\n",
    "\n",
    "# iterate every chunks\n",
    "hit_positions = []\n",
    "# hits count & last hit position of each bins\n",
    "hit_num_in_bins = [0 for i in range(bin_num)]\n",
    "last_hit_pos = [None for i in range(bin_num)]\n",
    "\n",
    "for i in range(chunk_num):\n",
    "    chunk = gene_2[i*chunk_size:(i+1)*chunk_size]\n",
    "    # print(f'chunk_{i}: {chunk}')\n",
    "    for j in range(len(chunk)-k+1):\n",
    "        cut = chunk[j:j+k]\n",
    "        seed_index = seed_to_index(cut)\n",
    "        hits = np.array(position_table[seed_index])\n",
    "        # for h in hits:\n",
    "        #    print(f'hit at {i*chunk_size+j, h} {gene_1[h:h+k] == cut}')\n",
    "        for hit in hits:\n",
    "            if (hit-j) > 0:\n",
    "                hit_num_in_bins[(hit-j)//bin_size] += 1\n",
    "                last_hit_pos[(hit-j)//bin_size] = (i*chunk_size+j, hit) # (position in gene_2, position in gene_1)\n",
    "    print(hit_num_in_bins)\n",
    "    # print(last_hit_pos)\n",
    "    for i in range(bin_num):\n",
    "        if hit_num_in_bins[i] >= threshold:\n",
    "            final_hits.append(last_hit_pos[i])\n",
    "    hit_num_in_bins = [0 for i in range(bin_num)]\n",
    "    \n",
    "print(final_hits)\n",
    "print(len(final_hits))"
   ]
  },
  {
   "cell_type": "code",
   "execution_count": null,
   "id": "83e703be",
   "metadata": {},
   "outputs": [],
   "source": [
    "for i in final_hits:\n",
    "    print(gene_2[i[0]:i[0]+k], gene_1[i[1]:i[1]+k], gene_2[i[0]:i[0]+k]==gene_1[i[1]:i[1]+k])"
   ]
  },
  {
   "cell_type": "code",
   "execution_count": null,
   "id": "b0e1090c",
   "metadata": {},
   "outputs": [],
   "source": []
  }
 ],
 "metadata": {
  "kernelspec": {
   "display_name": "Python 3 (ipykernel)",
   "language": "python",
   "name": "python3"
  },
  "language_info": {
   "codemirror_mode": {
    "name": "ipython",
    "version": 3
   },
   "file_extension": ".py",
   "mimetype": "text/x-python",
   "name": "python",
   "nbconvert_exporter": "python",
   "pygments_lexer": "ipython3",
   "version": "3.9.13"
  }
 },
 "nbformat": 4,
 "nbformat_minor": 5
}
