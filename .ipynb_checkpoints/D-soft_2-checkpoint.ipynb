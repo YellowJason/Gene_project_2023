{
 "cells": [
  {
   "cell_type": "markdown",
   "id": "a458aa8a",
   "metadata": {},
   "source": [
    "# Read gene file"
   ]
  },
  {
   "cell_type": "code",
   "execution_count": 1,
   "id": "28ff214c",
   "metadata": {},
   "outputs": [
    {
     "name": "stdout",
     "output_type": "stream",
     "text": [
      "15072434 15455979\n"
     ]
    }
   ],
   "source": [
    "f = open('ce11.fa', 'r')\n",
    "gene_1 = ''\n",
    "f.readline()\n",
    "for line in f.readlines():\n",
    "    if line[0] == '>':\n",
    "        break\n",
    "    gene_1 = gene_1 + line[:-1].upper()\n",
    "f.close()\n",
    "\n",
    "f = open('cb4.fa', 'r')\n",
    "gene_2 = ''\n",
    "f.readline()\n",
    "for line in f.readlines():\n",
    "    if line[0] == '>':\n",
    "        break\n",
    "    gene_2 = gene_2 + line[:-1].upper()\n",
    "f.close()\n",
    "\n",
    "print(len(gene_1), len(gene_2))"
   ]
  },
  {
   "cell_type": "code",
   "execution_count": 2,
   "id": "79cfe988",
   "metadata": {},
   "outputs": [],
   "source": [
    "# gene_1 = gene_1[:1000000]\n",
    "# gene_2 = gene_2[:1000000]"
   ]
  },
  {
   "cell_type": "markdown",
   "id": "bfe70c1d",
   "metadata": {},
   "source": [
    "# Generate random gene sequence"
   ]
  },
  {
   "cell_type": "code",
   "execution_count": 3,
   "id": "efb3fc01",
   "metadata": {},
   "outputs": [],
   "source": [
    "import numpy as np\n",
    "import matplotlib.pyplot as plt\n",
    "import random\n",
    "random.seed(10)\n",
    "\n",
    "random_pattern = False\n",
    "seq_size = 100000\n",
    "\n",
    "d = ['A', 'C', 'G', 'T']\n",
    "if random_pattern:\n",
    "    gene_1, gene_2 = '', ''\n",
    "    for i in range(seq_size):\n",
    "        gene_1 += d[random.randint(0, 3)]\n",
    "    i = 0\n",
    "    while i < seq_size:\n",
    "        die = random.random()\n",
    "        l = random.randint(1,10)\n",
    "        # delete gene_1 for length l\n",
    "        if die < 0.06:\n",
    "            i += l\n",
    "        # insert gene_1 for length l\n",
    "        elif die < 0.12:\n",
    "            for j in range(l):\n",
    "                gene_2 += d[random.randint(0, 3)]\n",
    "            i += 1\n",
    "        # change 1 gene\n",
    "        elif die < 0.18:\n",
    "            gene_2 += d[random.randint(0, 3)]\n",
    "            i += 1\n",
    "        else:\n",
    "            gene_2 += gene_1[i]\n",
    "            i += 1\n",
    "    while len(gene_2) < seq_size:\n",
    "        gene_2 += d[random.randint(0, 3)]\n",
    "            \n",
    "    print(len(gene_1), len(gene_2))\n",
    "    # print(gene_1)\n",
    "    # print(gene_2)"
   ]
  },
  {
   "cell_type": "markdown",
   "id": "5703c45e",
   "metadata": {},
   "source": [
    "# Build seed-look-up on reference sequence"
   ]
  },
  {
   "cell_type": "code",
   "execution_count": 4,
   "id": "7ce46a50",
   "metadata": {},
   "outputs": [
    {
     "name": "stdout",
     "output_type": "stream",
     "text": [
      "Pattern: 1111111111111\n",
      "length mismatch\n",
      "None\n",
      "length mismatch\n",
      "None\n"
     ]
    }
   ],
   "source": [
    "k = 13\n",
    "pattern_len = 13\n",
    "# base = ['A', 'C', 'G', 'T']\n",
    "# seeds = []\n",
    "# for i in range(4**k):\n",
    "#     seed = ''\n",
    "#     for j in range(k):\n",
    "#         seed += base[i%4]\n",
    "#         i = i // 4\n",
    "#     seeds.append(seed)\n",
    "# print(seeds)\n",
    "\n",
    "# seed_to_index = {seeds[i]:i for i in range(len(seeds))}\n",
    "\n",
    "def gen_pattern(k, length):\n",
    "    l1 = np.zeros(length).astype(int)\n",
    "    l2 = random.sample(range(length), k)\n",
    "    l1[l2] = 1\n",
    "    return l1\n",
    "    \n",
    "pattern = '1110100110010101111' # 12 of 19\n",
    "pattern = '1111111111111'\n",
    "\n",
    "# pattern = gen_pattern(k, pattern_len)\n",
    "print('Pattern:', pattern)\n",
    "\n",
    "def seed_to_index(cut, pattern):\n",
    "    if len(cut) != len(pattern):\n",
    "        print('length mismatch')\n",
    "        return None\n",
    "    if 'N' in cut:\n",
    "        # print('Missing Nucleobase')\n",
    "        return None\n",
    "    base = {'A':0, 'C':1, 'G':2, 'T':3}\n",
    "    index = 0\n",
    "    j = 0\n",
    "    # only count position selected by pattern\n",
    "    for i in range(len(pattern)):\n",
    "        if pattern[i] == 1 or pattern[i] == '1':\n",
    "            index += (4**j)*base[cut[i]]\n",
    "            j += 1\n",
    "    return index\n",
    "\n",
    "print(seed_to_index('GTAGCGGGCAACTATCCTT', pattern))\n",
    "print(seed_to_index('GTAACTTGCTTCGACCCTT', pattern))\n",
    "\n",
    "def check_hit(seq1, seq2, pattern):\n",
    "    for i in range(len(pattern)):\n",
    "        if ((pattern[i] == '1') or (pattern[i] == 1)) and not (seq1[i] == seq2[i]):\n",
    "            return False\n",
    "    return True"
   ]
  },
  {
   "cell_type": "code",
   "execution_count": 5,
   "id": "7fd00fe9",
   "metadata": {},
   "outputs": [
    {
     "name": "stdout",
     "output_type": "stream",
     "text": [
      "Processing: 100.0/100\n",
      "67108864\n"
     ]
    }
   ],
   "source": [
    "# position_table[i] is a list, memory start positions of seeds[i] in reference sequence\n",
    "position_table = [[] for i in range(4**k)]\n",
    "for i in range(len(gene_1)-pattern_len+1):\n",
    "#     print(\"\\r\" , end='' )\n",
    "#     print(f'Processing: {i}/{len(gene_1)-pattern_len}', end='')\n",
    "    if i % (len(gene_1)//100) == 0:\n",
    "        print(\"\\r\" , end='' )\n",
    "        print(f'Processing: {i / (len(gene_1)//100)}/100', end='')\n",
    "    cut = gene_1[i:i+pattern_len]\n",
    "    index = seed_to_index(cut, pattern)\n",
    "    position_table[index].append(i)\n",
    "print('')\n",
    "print(len(position_table))\n",
    "# print(position_table)"
   ]
  },
  {
   "cell_type": "code",
   "execution_count": 6,
   "id": "d5399698",
   "metadata": {},
   "outputs": [],
   "source": [
    "f = open('position_table.txt', 'w')\n",
    "for i in position_table:\n",
    "    if len(i) != 0:\n",
    "        f.write(f\"{len(i)} {str(i)}\")\n",
    "    else:\n",
    "        f.write(\"0\")\n",
    "    f.write(\"\\n\")\n",
    "f.close()"
   ]
  },
  {
   "cell_type": "code",
   "execution_count": 7,
   "id": "63ba7376",
   "metadata": {},
   "outputs": [],
   "source": [
    "# for i in range(100):\n",
    "#     print(len(position_table[i]))"
   ]
  },
  {
   "cell_type": "markdown",
   "id": "0f72f27b",
   "metadata": {},
   "source": [
    "# D-Soft filtering"
   ]
  },
  {
   "cell_type": "code",
   "execution_count": 8,
   "id": "d8ba56e3",
   "metadata": {},
   "outputs": [
    {
     "name": "stdout",
     "output_type": "stream",
     "text": [
      "Processing chunk: 48299/48299\n",
      "347839\n"
     ]
    }
   ],
   "source": [
    "# reference: gene_1, query: gene_2\n",
    "bin_size = 320\n",
    "chunk_size = 320\n",
    "threshold = 10\n",
    "\n",
    "bin_num = len(gene_1) // bin_size\n",
    "chunk_num = len(gene_2) // chunk_size\n",
    "\n",
    "final_hits = []\n",
    "\n",
    "# iterate every chunks\n",
    "hit_positions = []\n",
    "# hits count & last hit position of each bins\n",
    "hit_num_in_bins = [0 for i in range(bin_num)]\n",
    "last_hit_pos = [None for i in range(bin_num)]\n",
    "\n",
    "for i in range(chunk_num):\n",
    "    chunk = gene_2[i*chunk_size:(i+1)*chunk_size]\n",
    "    print('\\r', end='')\n",
    "    print(f'Processing chunk: {i+1}/{chunk_num}', end='')\n",
    "    for j in range(len(chunk)-pattern_len+1):\n",
    "        cut = chunk[j:j+pattern_len]\n",
    "        seed_index = seed_to_index(cut, pattern)\n",
    "        if seed_index == None:\n",
    "            continue\n",
    "        hits = position_table[seed_index]\n",
    "        # for h in hits:\n",
    "        #    print(f'hit at {i*chunk_size+j, h} {gene_1[h:h+k] == cut}')\n",
    "        for hit in hits:\n",
    "            if (hit-j) > 0 and (hit < bin_size*bin_num):\n",
    "                hit_num_in_bins[(hit-j)//bin_size] += 1\n",
    "                last_hit_pos[(hit-j)//bin_size] = (i*chunk_size+j, hit) # (position in gene_2, position in gene_1)\n",
    "    # print(hit_num_in_bins)\n",
    "    # print(last_hit_pos)\n",
    "    for i in range(bin_num):\n",
    "        if hit_num_in_bins[i] >= threshold:\n",
    "            final_hits.append(last_hit_pos[i])\n",
    "    hit_num_in_bins = [0 for i in range(bin_num)]\n",
    "    \n",
    "# print(final_hits)\n",
    "print('')\n",
    "print(len(final_hits))"
   ]
  },
  {
   "cell_type": "code",
   "execution_count": 9,
   "id": "a52018ac",
   "metadata": {},
   "outputs": [
    {
     "name": "stdout",
     "output_type": "stream",
     "text": [
      "(10306308, 212) AAGAAAATTGTAT AAGAAAATTGTAT True\n",
      "(10307151, 1067) ATAGTAGAGAAGG ATAGTAGAGAAGG True\n",
      "(10307821, 2484) ATTTGGAGAGTTG ATTTGGAGAGTTG True\n",
      "(3542689, 2583) AAAAATAGAAAAA AAAAATAGAAAAA True\n",
      "(12071883, 3744) CTGAAAATTTATT CTGAAAATTTATT True\n",
      "(12072200, 3744) CTGAAAATTTATT CTGAAAATTTATT True\n",
      "(10316653, 6014) TGTATAATTTTAT TGTATAATTTTAT True\n",
      "(10317103, 6450) AATTCATAGAGTT AATTCATAGAGTT True\n",
      "(10318790, 7630) TTTTTCTGGTAAA TTTTTCTGGTAAA True\n",
      "(569769, 7899) CATGATTTTTTTT CATGATTTTTTTT True\n",
      "(1408685, 7917) TTTTTCGATTTTT TTTTTCGATTTTT True\n",
      "(3470358, 7876) TTTCTGATTTTTT TTTCTGATTTTTT True\n",
      "(4527084, 7930) TTTCAATTTTTCT TTTCAATTTTTCT True\n",
      "(13548825, 7930) TTTCAATTTTTCT TTTCAATTTTTCT True\n",
      "(13670973, 7920) TTCGATTTTTTTT TTCGATTTTTTTT True\n",
      "(670533, 8812) TTCTGAAAAAAAA TTCTGAAAAAAAA True\n",
      "(7741226, 9151) AAAAAAATTTTTG AAAAAAATTTTTG True\n",
      "(3390164, 9397) TCTCACCACGAAA TCTCACCACGAAA True\n",
      "(3390494, 9397) TCTCACCACGAAA TCTCACCACGAAA True\n",
      "(3390809, 9397) TCTCACCACGAAA TCTCACCACGAAA True\n",
      "(3391139, 9397) TCTCACCACGAAA TCTCACCACGAAA True\n",
      "(3391469, 9397) TCTCACCACGAAA TCTCACCACGAAA True\n",
      "(3391754, 9397) TCTCACCACGAAA TCTCACCACGAAA True\n",
      "(3392099, 9397) TCTCACCACGAAA TCTCACCACGAAA True\n",
      "(3392414, 9397) TCTCACCACGAAA TCTCACCACGAAA True\n",
      "(3392744, 9397) TCTCACCACGAAA TCTCACCACGAAA True\n",
      "(3393059, 9397) TCTCACCACGAAA TCTCACCACGAAA True\n",
      "(3393482, 9514) AAAATTTGAATTC AAAATTTGAATTC True\n",
      "(4574189, 9395) GGTCTCACCACGA GGTCTCACCACGA True\n",
      "(4574474, 9395) GGTCTCACCACGA GGTCTCACCACGA True\n",
      "(4574610, 9396) GTCTCACCACGAA GTCTCACCACGAA True\n",
      "(9819890, 9396) GTCTCACCACGAA GTCTCACCACGAA True\n",
      "(9820249, 9395) GGTCTCACCACGA GGTCTCACCACGA True\n",
      "(11281823, 9514) AAAATTTGAATTC AAAATTTGAATTC True\n",
      "(11282139, 9514) AAAATTTGAATTC AAAATTTGAATTC True\n",
      "(3390164, 10027) TCTCACCACGAAA TCTCACCACGAAA True\n",
      "(3390494, 10027) TCTCACCACGAAA TCTCACCACGAAA True\n",
      "(3390809, 10027) TCTCACCACGAAA TCTCACCACGAAA True\n",
      "(3391139, 10027) TCTCACCACGAAA TCTCACCACGAAA True\n",
      "(3391454, 10027) TCTCACCACGAAA TCTCACCACGAAA True\n",
      "(3391754, 10027) TCTCACCACGAAA TCTCACCACGAAA True\n",
      "(3392099, 10027) TCTCACCACGAAA TCTCACCACGAAA True\n",
      "(3392414, 10027) TCTCACCACGAAA TCTCACCACGAAA True\n",
      "(3392744, 10027) TCTCACCACGAAA TCTCACCACGAAA True\n",
      "(3393059, 10027) TCTCACCACGAAA TCTCACCACGAAA True\n",
      "(3393329, 10027) TCTCACCACGAAA TCTCACCACGAAA True\n",
      "(4574114, 10025) GGTCTCACCACGA GGTCTCACCACGA True\n",
      "(4574474, 10025) GGTCTCACCACGA GGTCTCACCACGA True\n",
      "(4574610, 10026) GTCTCACCACGAA GTCTCACCACGAA True\n",
      "(9819890, 10026) GTCTCACCACGAA GTCTCACCACGAA True\n",
      "(9820249, 10025) GGTCTCACCACGA GGTCTCACCACGA True\n",
      "(860286, 10738) TAAAGATTTTTTT TAAAGATTTTTTT True\n",
      "(1973444, 10756) TTTTTTTTCAGAA TTTTTTTTCAGAA True\n",
      "(11096499, 10751) TCCAATTTTTTTT TCCAATTTTTTTT True\n",
      "(625245, 10913) TTTTTGGAAAAAA TTTTTGGAAAAAA True\n",
      "(628110, 10913) TTTTTGGAAAAAA TTTTTGGAAAAAA True\n",
      "(927379, 10936) CTTAGGCTCAGGC CTTAGGCTCAGGC True\n",
      "(3082688, 10915) TTTGGAAAAAAAA TTTGGAAAAAAAA True\n",
      "(14255050, 10920) AAAAAAAACAGCT AAAAAAAACAGCT True\n",
      "(14259013, 11112) AATTTCAAAATTT AATTTCAAAATTT True\n",
      "(14777697, 10913) TTTTTGGAAAAAA TTTTTGGAAAAAA True\n",
      "(18969, 11698) AAAAATTTTTTTT AAAAATTTTTTTT True\n",
      "(49195, 11677) TCAAAAAAAAAAT TCAAAAAAAAAAT True\n",
      "(78499, 11706) TTTTTTCAAAATT TTTTTTCAAAATT True\n",
      "(101177, 11676) TTCAAAAAAAAAA TTCAAAAAAAAAA True\n",
      "(105046, 11676) TTCAAAAAAAAAA TTCAAAAAAAAAA True\n",
      "(158266, 11704) TTTTTTTTCAAAA TTTTTTTTCAAAA True\n",
      "(158546, 11660) TTCAAAAAAAAAA TTCAAAAAAAAAA True\n",
      "(188874, 11699) AAAATTTTTTTTT AAAATTTTTTTTT True\n",
      "(194485, 11683) AAAAAATTTTCAA AAAAAATTTTCAA True\n",
      "(194992, 11678) CAAAAAAAAAATT CAAAAAAAAAATT True\n",
      "(195892, 11684) AAAAATTTTCAAT AAAAATTTTCAAT True\n",
      "(350517, 11713) AAAATTTCAAAAA AAAATTTCAAAAA True\n",
      "(368281, 11676) TTCAAAAAAAAAA TTCAAAAAAAAAA True\n",
      "(370973, 11699) AAAATTTTTTTTT AAAATTTTTTTTT True\n",
      "(372987, 11675) TTTCAAAAAAAAA TTTCAAAAAAAAA True\n",
      "(385526, 11679) AAAAAAAAAATTT AAAAAAAAAATTT True\n",
      "(406502, 11673) ATTTTCAAAAAAA ATTTTCAAAAAAA True\n",
      "(411168, 11679) AAAAAAAAAATTT AAAAAAAAAATTT True\n",
      "(412334, 11683) AAAAAATTTTCAA AAAAAATTTTCAA True\n",
      "(434497, 11721) AAAAACCCTAAAA AAAAACCCTAAAA True\n",
      "(445884, 11681) AAAAAAAATTTTC AAAAAAAATTTTC True\n",
      "(451117, 11676) TTCAAAAAAAAAA TTCAAAAAAAAAA True\n",
      "(455113, 11699) AAAATTTTTTTTT AAAATTTTTTTTT True\n",
      "(456327, 11687) AATTTTCAATAAA AATTTTCAATAAA True\n",
      "(460664, 11702) ATTTTTTTTTCAA ATTTTTTTTTCAA True\n",
      "(465309, 11713) AAAATTTCAAAAA AAAATTTCAAAAA True\n",
      "(466271, 11673) ATTTTCAAAAAAA ATTTTCAAAAAAA True\n",
      "(499537, 11707) TTTTTCAAAATTT TTTTTCAAAATTT True\n",
      "(503417, 11699) AAAATTTTTTTTT AAAATTTTTTTTT True\n",
      "(504208, 11698) AAAAATTTTTTTT AAAAATTTTTTTT True\n",
      "(515915, 11676) TTCAAAAAAAAAA TTCAAAAAAAAAA True\n",
      "(580300, 11680) AAAAAAAAATTTT AAAAAAAAATTTT True\n",
      "(626227, 11677) TCAAAAAAAAAAT TCAAAAAAAAAAT True\n",
      "(626546, 11677) TCAAAAAAAAAAT TCAAAAAAAAAAT True\n",
      "(656884, 11699) AAAATTTTTTTTT AAAATTTTTTTTT True\n",
      "(657510, 11675) TTTCAAAAAAAAA TTTCAAAAAAAAA True\n",
      "(659264, 11676) TTCAAAAAAAAAA TTCAAAAAAAAAA True\n",
      "(660920, 11676) TTCAAAAAAAAAA TTCAAAAAAAAAA True\n",
      "(673262, 11713) AAAATTTCAAAAA AAAATTTCAAAAA True\n"
     ]
    }
   ],
   "source": [
    "for index in range(100):\n",
    "    i = final_hits[index]\n",
    "    seq1 = gene_1[i[1]:i[1]+pattern_len]\n",
    "    seq2 = gene_2[i[0]:i[0]+pattern_len]\n",
    "    print((i[1], i[0]), seq1, seq2, check_hit(seq1, seq2, pattern))"
   ]
  },
  {
   "cell_type": "code",
   "execution_count": 10,
   "id": "02084a9e",
   "metadata": {},
   "outputs": [],
   "source": [
    "final_hits = np.array(final_hits)\n",
    "np.save('seeds', final_hits)"
   ]
  },
  {
   "cell_type": "code",
   "execution_count": 11,
   "id": "006c1b8e",
   "metadata": {},
   "outputs": [],
   "source": [
    "# np.load('seeds.npy')"
   ]
  },
  {
   "cell_type": "code",
   "execution_count": 12,
   "id": "0a4ff04e",
   "metadata": {},
   "outputs": [
    {
     "data": {
      "image/png": "[encoded data removed]",
      "text/plain": [
       "<Figure size 640x480 with 1 Axes>"
      ]
     },
     "metadata": {},
     "output_type": "display_data"
    }
   ],
   "source": [
    "import matplotlib.pyplot as plt\n",
    "r = 500000\n",
    "for i in final_hits:\n",
    "    if (i[0] < r) and (i[1] < r):\n",
    "        plt.scatter(i[0], i[1], c='red', s=3)\n",
    "\n",
    "hit_12of19 = np.load('seeds_12of19.npy')\n",
    "for i in hit_12of19:\n",
    "    if (i[0] < r) and (i[1] < r):\n",
    "        plt.scatter(i[0], i[1], c='blue', s=3)\n",
    "\n",
    "plt.show()"
   ]
  },
  {
   "cell_type": "code",
   "execution_count": null,
   "id": "746ca788",
   "metadata": {},
   "outputs": [],
   "source": []
  }
 ],
 "metadata": {
  "kernelspec": {
   "display_name": "Python 3 (ipykernel)",
   "language": "python",
   "name": "python3"
  },
  "language_info": {
   "codemirror_mode": {
    "name": "ipython",
    "version": 3
   },
   "file_extension": ".py",
   "mimetype": "text/x-python",
   "name": "python",
   "nbconvert_exporter": "python",
   "pygments_lexer": "ipython3",
   "version": "3.9.13"
  },
  "vscode": {
   "interpreter": {
    "hash": "066073eafed84b19112f3356725a478c6f0d4d996853e72b830a6e25d7e0b861"
   }
  }
 },
 "nbformat": 4,
 "nbformat_minor": 5
}
