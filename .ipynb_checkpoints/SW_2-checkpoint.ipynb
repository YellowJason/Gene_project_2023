{
 "cells": [
  {
   "cell_type": "code",
   "execution_count": 1,
   "id": "b06b4558",
   "metadata": {},
   "outputs": [],
   "source": [
    "import numpy as np"
   ]
  },
  {
   "cell_type": "code",
   "execution_count": 2,
   "id": "57cb1ba4",
   "metadata": {},
   "outputs": [
    {
     "name": "stdout",
     "output_type": "stream",
     "text": [
      "15072434 15455979\n"
     ]
    }
   ],
   "source": [
    "f = open('ce11.fa', 'r')\n",
    "gene_1 = ''\n",
    "f.readline()\n",
    "for line in f.readlines():\n",
    "    if line[0] == '>':\n",
    "        break\n",
    "    gene_1 = gene_1 + line[:-1].upper()\n",
    "f.close()\n",
    "\n",
    "f = open('cb4.fa', 'r')\n",
    "gene_2 = ''\n",
    "f.readline()\n",
    "for line in f.readlines():\n",
    "    if line[0] == '>':\n",
    "        break\n",
    "    gene_2 = gene_2 + line[:-1].upper()\n",
    "f.close()\n",
    "\n",
    "print(len(gene_1), len(gene_2))"
   ]
  },
  {
   "cell_type": "code",
   "execution_count": 3,
   "id": "5e6b498d",
   "metadata": {},
   "outputs": [
    {
     "name": "stdout",
     "output_type": "stream",
     "text": [
      "127518\n",
      "[[     280 10306376]\n",
      " [    1070 10307154]\n",
      " [    2541 10307878]\n",
      " [    2661 12782807]\n",
      " [    2661 12783128]\n",
      " [    3927  3485503]\n",
      " [    3927  3485843]\n",
      " [    3927  3486163]\n",
      " [    3927  3486483]\n",
      " [    3927  3486803]]\n"
     ]
    }
   ],
   "source": [
    "seeds = np.load('seeds.npy')\n",
    "print(len(seeds))\n",
    "print(seeds[:10])"
   ]
  },
  {
   "cell_type": "code",
   "execution_count": 4,
   "id": "97920d8a",
   "metadata": {},
   "outputs": [],
   "source": [
    "W = {'A': {'A':  91, 'C': -90, 'G': -25, 'T':-100},\n",
    "     'C': {'A': -90, 'C': 100, 'G':-100, 'T': -25},\n",
    "     'G': {'A': -25, 'C':-100, 'G': 100, 'T': -90},\n",
    "     'T': {'A':-100, 'C': -25, 'G': -90, 'T':  91}}\n",
    "g_o = -430\n",
    "g_e = -30\n",
    "\n",
    "num_PE = 64\n",
    "Band = 32\n",
    "tile_size = 320\n",
    "threshold = 8000"
   ]
  },
  {
   "cell_type": "code",
   "execution_count": 5,
   "id": "f2c8a733",
   "metadata": {},
   "outputs": [],
   "source": [
    "def SW(gene_1, gene_2, W, g_o, g_e):\n",
    "    # Initial\n",
    "    tile_size = min(len(gene_1), len(gene_1))\n",
    "    V = np.zeros((tile_size+1, tile_size+1))\n",
    "    I = np.zeros((tile_size+1, tile_size+1))\n",
    "    D = np.zeros((tile_size+1, tile_size+1))\n",
    "#     Trace = np.zeros((tile_size+1, tile_size+1), dtype=int)\n",
    "#     Trace_I = np.zeros((tile_size+1, tile_size+1), dtype=int)\n",
    "#     Trace_D = np.zeros((tile_size+1, tile_size+1), dtype=int)\n",
    "    V_max = float('-inf')\n",
    "    x_max, y_max = 0, 0\n",
    "    \n",
    "    column_start = 1\n",
    "    column_end = 1\n",
    "    # Calculate\n",
    "    for i in range(1, tile_size+1, num_PE):\n",
    "        column_start = max(1, (i//num_PE)*num_PE+1-Band)\n",
    "        column_end = min(tile_size, (i//num_PE+1)*num_PE+Band)\n",
    "        column = column_start # current column\n",
    "        while column <= column_end:\n",
    "            # row index: i+j, column index:column\n",
    "            for j in range(num_PE):\n",
    "                if i+j > tile_size:\n",
    "                    break\n",
    "                V_nxt = V[i+j-1][column-1] + W[gene_1[i+j-1]][gene_2[column-1]]\n",
    "                I[i+j][column] = max(V[i+j][column-1]+g_o, I[i+j][column-1]+g_e, 0)\n",
    "                D[i+j][column] = max(V[i+j-1][column]+g_o, D[i+j-1][column]+g_e, 0)\n",
    "                V[i+j][column] = max(V_nxt, I[i+j][column], D[i+j][column], 0)\n",
    "                # track max score\n",
    "                if V[i+j][column] >= V_max:\n",
    "                    V_max = V[i+j][column]\n",
    "                    x_max, y_max = i+j, column\n",
    "                # track direction\n",
    "#                 if V[i+j][column] == 0:\n",
    "#                     Trace[i+j][column] = 0\n",
    "#                 elif V[i+j][column] == V_nxt:\n",
    "#                     Trace[i+j][column] = 1\n",
    "#                 elif V[i+j][column] == D[i+j][column]:\n",
    "#                     Trace[i+j][column] = 2\n",
    "#                 elif V[i+j][column] == I[i+j][column]:\n",
    "#                     Trace[i+j][column] = 3\n",
    "#                 # direction of Trace_I\n",
    "#                 if I[i+j][column] == V[i+j][column-1]+g_o:\n",
    "#                     Trace_I[i+j][column] = 1\n",
    "#                 else:\n",
    "#                     Trace_I[i+j][column] = 0\n",
    "#                 # direction of Trace_D\n",
    "#                 if D[i+j][column] == V[i+j-1][column]+g_o:\n",
    "#                     Trace_D[i+j][column] = 1\n",
    "#                 else:\n",
    "#                     Trace_D[i+j][column] = 0\n",
    "            # if stripe end\n",
    "            column += 1\n",
    "    return V_max, x_max, y_max"
   ]
  },
  {
   "cell_type": "code",
   "execution_count": 6,
   "id": "527665a0",
   "metadata": {},
   "outputs": [],
   "source": [
    "pattern = '1110100110010101111'\n",
    "def check_hit(seq1, seq2, pattern):\n",
    "    for i in range(len(pattern)):\n",
    "        if ((pattern[i] == '1') or (pattern[i] == 1)) and not (seq1[i] == seq2[i]):\n",
    "            return False\n",
    "    return True"
   ]
  },
  {
   "cell_type": "code",
   "execution_count": 7,
   "id": "ec74ffa8",
   "metadata": {},
   "outputs": [],
   "source": [
    "f = open('anchor.txt', 'w')"
   ]
  },
  {
   "cell_type": "code",
   "execution_count": 9,
   "id": "d1cf4c87",
   "metadata": {},
   "outputs": [
    {
     "name": "stdout",
     "output_type": "stream",
     "text": [
      "Processing seeds: 1/12751810306536 440 19948.0\n",
      "\n",
      "Processing seeds: 3/12751810308030 2683 19949.0\n",
      "\n",
      "Processing seeds: 13/12751810316815 6177 19846.0\n",
      "\n",
      "Processing seeds: 14/12751810318949 7775 14911.0\n",
      "\n",
      "Processing seeds: 108/127518"
     ]
    },
    {
     "ename": "KeyboardInterrupt",
     "evalue": "",
     "output_type": "error",
     "traceback": [
      "\u001b[1;31m---------------------------------------------------------------------------\u001b[0m",
      "\u001b[1;31mKeyboardInterrupt\u001b[0m                         Traceback (most recent call last)",
      "Cell \u001b[1;32mIn[9], line 17\u001b[0m\n\u001b[0;32m     15\u001b[0m     scores\u001b[38;5;241m.\u001b[39mappend(\u001b[38;5;241m0\u001b[39m)\n\u001b[0;32m     16\u001b[0m     \u001b[38;5;28;01mcontinue\u001b[39;00m\n\u001b[1;32m---> 17\u001b[0m score, x, y \u001b[38;5;241m=\u001b[39m \u001b[43mSW\u001b[49m\u001b[43m(\u001b[49m\u001b[43mseq_1\u001b[49m\u001b[43m,\u001b[49m\u001b[43m \u001b[49m\u001b[43mseq_2\u001b[49m\u001b[43m,\u001b[49m\u001b[43m \u001b[49m\u001b[43mW\u001b[49m\u001b[43m,\u001b[49m\u001b[43m \u001b[49m\u001b[43mg_o\u001b[49m\u001b[43m,\u001b[49m\u001b[43m \u001b[49m\u001b[43mg_e\u001b[49m\u001b[43m)\u001b[49m\n\u001b[0;32m     18\u001b[0m x \u001b[38;5;241m+\u001b[39m\u001b[38;5;241m=\u001b[39m seeds[i][\u001b[38;5;241m1\u001b[39m]\u001b[38;5;241m-\u001b[39mtile_size\u001b[38;5;241m/\u001b[39m\u001b[38;5;241m/\u001b[39m\u001b[38;5;241m2\u001b[39m\n\u001b[0;32m     19\u001b[0m y \u001b[38;5;241m+\u001b[39m\u001b[38;5;241m=\u001b[39m seeds[i][\u001b[38;5;241m0\u001b[39m]\u001b[38;5;241m-\u001b[39mtile_size\u001b[38;5;241m/\u001b[39m\u001b[38;5;241m/\u001b[39m\u001b[38;5;241m2\u001b[39m\n",
      "Cell \u001b[1;32mIn[5], line 27\u001b[0m, in \u001b[0;36mSW\u001b[1;34m(gene_1, gene_2, W, g_o, g_e)\u001b[0m\n\u001b[0;32m     25\u001b[0m V_nxt \u001b[38;5;241m=\u001b[39m V[i\u001b[38;5;241m+\u001b[39mj\u001b[38;5;241m-\u001b[39m\u001b[38;5;241m1\u001b[39m][column\u001b[38;5;241m-\u001b[39m\u001b[38;5;241m1\u001b[39m] \u001b[38;5;241m+\u001b[39m W[gene_1[i\u001b[38;5;241m+\u001b[39mj\u001b[38;5;241m-\u001b[39m\u001b[38;5;241m1\u001b[39m]][gene_2[column\u001b[38;5;241m-\u001b[39m\u001b[38;5;241m1\u001b[39m]]\n\u001b[0;32m     26\u001b[0m I[i\u001b[38;5;241m+\u001b[39mj][column] \u001b[38;5;241m=\u001b[39m \u001b[38;5;28mmax\u001b[39m(V[i\u001b[38;5;241m+\u001b[39mj][column\u001b[38;5;241m-\u001b[39m\u001b[38;5;241m1\u001b[39m]\u001b[38;5;241m+\u001b[39mg_o, I[i\u001b[38;5;241m+\u001b[39mj][column\u001b[38;5;241m-\u001b[39m\u001b[38;5;241m1\u001b[39m]\u001b[38;5;241m+\u001b[39mg_e, \u001b[38;5;241m0\u001b[39m)\n\u001b[1;32m---> 27\u001b[0m D[i\u001b[38;5;241m+\u001b[39mj][column] \u001b[38;5;241m=\u001b[39m \u001b[38;5;28;43mmax\u001b[39;49m(V[i\u001b[38;5;241m+\u001b[39mj\u001b[38;5;241m-\u001b[39m\u001b[38;5;241m1\u001b[39m][column]\u001b[38;5;241m+\u001b[39mg_o, D[i\u001b[38;5;241m+\u001b[39mj\u001b[38;5;241m-\u001b[39m\u001b[38;5;241m1\u001b[39m][column]\u001b[38;5;241m+\u001b[39mg_e, \u001b[38;5;241m0\u001b[39m)\n\u001b[0;32m     28\u001b[0m V[i\u001b[38;5;241m+\u001b[39mj][column] \u001b[38;5;241m=\u001b[39m \u001b[38;5;28mmax\u001b[39m(V_nxt, I[i\u001b[38;5;241m+\u001b[39mj][column], D[i\u001b[38;5;241m+\u001b[39mj][column], \u001b[38;5;241m0\u001b[39m)\n\u001b[0;32m     29\u001b[0m \u001b[38;5;66;03m# track max score\u001b[39;00m\n",
      "\u001b[1;31mKeyboardInterrupt\u001b[0m: "
     ]
    }
   ],
   "source": [
    "scores = []\n",
    "for i in range(len(seeds)):\n",
    "    print('\\r', end='')\n",
    "    print(f'Processing seeds: {i+1}/{len(seeds)}', end='')\n",
    "    if (seeds[i][0] < tile_size//2) or (seeds[i][1] < tile_size//2):\n",
    "        scores.append(0)\n",
    "        continue\n",
    "    seed_1 = gene_1[seeds[i][1] : seeds[i][1]+19]\n",
    "    seed_2 = gene_2[seeds[i][0] : seeds[i][0]+19]\n",
    "    seq_1 = gene_1[seeds[i][1]-tile_size//2 : seeds[i][1]+tile_size//2]\n",
    "    seq_2 = gene_2[seeds[i][0]-tile_size//2 : seeds[i][0]+tile_size//2]\n",
    "    \n",
    "    # print(check_hit(seed_1, seed_2, pattern))\n",
    "    if (\"N\" in seq_1) or (\"N\" in seq_2):\n",
    "        scores.append(0)\n",
    "        continue\n",
    "    score, x, y = SW(seq_1, seq_2, W, g_o, g_e)\n",
    "    x += seeds[i][1]-tile_size//2\n",
    "    y += seeds[i][0]-tile_size//2\n",
    "    scores.append(score)\n",
    "    if score > threshold:\n",
    "        f.write(f\"{x} {y} {score}\\n\")"
   ]
  },
  {
   "cell_type": "code",
   "execution_count": 10,
   "id": "7769cd95",
   "metadata": {},
   "outputs": [],
   "source": [
    "f.close()"
   ]
  },
  {
   "cell_type": "code",
   "execution_count": 11,
   "id": "57d089f2",
   "metadata": {},
   "outputs": [
    {
     "data": {
      "image/png": "[encoded data removed]",
      "text/plain": [
       "<Figure size 640x480 with 1 Axes>"
      ]
     },
     "metadata": {},
     "output_type": "display_data"
    }
   ],
   "source": [
    "import matplotlib.pyplot as plt\n",
    "plt.plot(scores)\n",
    "plt.show()"
   ]
  },
  {
   "cell_type": "code",
   "execution_count": null,
   "id": "dd802632",
   "metadata": {},
   "outputs": [],
   "source": []
  }
 ],
 "metadata": {
  "kernelspec": {
   "display_name": "Python 3 (ipykernel)",
   "language": "python",
   "name": "python3"
  },
  "language_info": {
   "codemirror_mode": {
    "name": "ipython",
    "version": 3
   },
   "file_extension": ".py",
   "mimetype": "text/x-python",
   "name": "python",
   "nbconvert_exporter": "python",
   "pygments_lexer": "ipython3",
   "version": "3.8.16"
  }
 },
 "nbformat": 4,
 "nbformat_minor": 5
}
